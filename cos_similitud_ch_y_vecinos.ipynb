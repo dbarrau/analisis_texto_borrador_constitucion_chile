{
  "nbformat": 4,
  "nbformat_minor": 0,
  "metadata": {
    "colab": {
      "provenance": [],
      "collapsed_sections": [],
      "toc_visible": true,
      "mount_file_id": "1BUOMQIls8yDtQLVUwMgC28De3ywUhSuK",
      "authorship_tag": "ABX9TyMRXBYEfqN4VIsayyf0FAwv",
      "include_colab_link": true
    },
    "kernelspec": {
      "name": "python3",
      "display_name": "Python 3"
    },
    "language_info": {
      "name": "python"
    }
  },
  "cells": [
    {
      "cell_type": "markdown",
      "metadata": {
        "id": "view-in-github",
        "colab_type": "text"
      },
      "source": [
        "<a href=\"https://colab.research.google.com/github/dbarrau/analisis_texto_borrador_constitucion_chile/blob/main/cos_similitud_ch_y_vecinos.ipynb\" target=\"_parent\"><img src=\"https://colab.research.google.com/assets/colab-badge.svg\" alt=\"Open In Colab\"/></a>"
      ]
    },
    {
      "cell_type": "markdown",
      "source": [
        "# Análisis de textos constitucionales en Sudamérica, con énfasis en Chile"
      ],
      "metadata": {
        "id": "ltd_E81L2l_s"
      }
    },
    {
      "cell_type": "markdown",
      "source": [
        "## 1. Resumen\n",
        "\n",
        "Dado el proceso constituyente que se dio en Chile entre el 2020 y el reciente plebiscito de salida el 4 de Septiembre, utilicé este impulso para para demostrar cómo el uso de algunas técnicas analíticas que son aplicables en textos constitucionales, que pueden cuantificar cuán símiles son diferentes constituciones bajo la extracción de características mediante el preprocesamiento del texto, seguido por la aplicación de dos algoritmos de vectorización de texto:\n",
        "\n",
        "<br>\n",
        "\n",
        "* **Vectorización de conteo:** Se obtiene el conteo de palabras en un documento.\n",
        "* **Vectorización Tf-Idf:** (del inglés \"Term frequency - Inverse document frequency\") Similar a la vectorización de conteo, pero además otorga mayor peso a palabras que son propias del documento al cual pertenecen, y que son menos frecuentes en los demás documentos.\n",
        "\n",
        "<br>\n",
        "\n",
        "seguido por la medición de cuán símiles son los vectores resultantes mediante la similitud del coseno.\n",
        "\n",
        "Mediante este procedimiento analizaron los textos constitucionales de Chile (actual y borrador) y países vecinos más el documento de Venezuela. Los resultados arrojaron que la mayor similitud respecto a la distribución de palabras, se dio entre el borrador constitucional de Chile y la constitución actual de Venezuela, con una similitud de 0.78 (medible entre 0 y 1). En cuanto al análisis de los vectores tf-idf, la mayor similitud se dio entre la constitución de Perú y el borrador de la constitución de Chile, con un valor de 0.71. Respecto a la constitución vigente, la mayor similitud en cuanto a distribución de frecuencia de palabras fue la constitución vigente de Perú. La menor similitud fue observada entre el borrador constitucional y la constitución vigente de Chile.\n",
        "\n",
        "<br>\n",
        "\n",
        "> **Nota -** La vectorización Tf-Idf considera tanto frecuencia como relevancia de la palabra, y técnicamente otorga un mejor nivel de análisis. Sin embargo por curiosidad optamos también por la vectorización de conteo.\n"
      ],
      "metadata": {
        "id": "TdEsxYWEISOH"
      }
    },
    {
      "cell_type": "markdown",
      "source": [
        "## 2. Objetivos y alcance\n",
        "\n",
        "<br>\n",
        "\n"
      ],
      "metadata": {
        "id": "JisVsTE57VM7"
      }
    },
    {
      "cell_type": "markdown",
      "source": [
        "### 2.1. Objetivos\n",
        "\n",
        "* Medir el grado de similitud entre el borrador y constitución vigentede la República de Chile, sus vecinos y la República Bolivariana de Venezuela.\n",
        "\n",
        "* Demostrar cómo mediante técnicas de análisis de texto, se puede extraer información relevante para la toma de decisiones.  \n",
        "\n",
        "<br>\n",
        "\n"
      ],
      "metadata": {
        "id": "rDn9aXx6brhJ"
      }
    },
    {
      "cell_type": "markdown",
      "source": [
        "### 2.2. Alcance\n",
        "\n",
        "Este trabajo se enfoca en el análisis del borrador y constitución vigente de la República de Chile entre las constituciones mencionadas en los objetivos."
      ],
      "metadata": {
        "id": "Zxof-_KHbuWU"
      }
    },
    {
      "cell_type": "markdown",
      "source": [
        "## 3. Métodos y procedimientos\n",
        "\n",
        "Esta sección contiene los métodos analíticos, requerimientos y pasos para llevar a cabo el análisis. Incluye:\n",
        "\n",
        "* Importación de librerías necesarias, definición de funciones\n",
        "* Manejo de *stopwords*\n",
        "* Importación y preprocesamiento de la data\n",
        "* Vectorización \n",
        "* Medición de similtud"
      ],
      "metadata": {
        "id": "XRYlH40e2fLh"
      }
    },
    {
      "cell_type": "markdown",
      "source": [
        "### 3.1 Importación de librerías necesarias, definición de funciones y manejo de stopwords\n",
        "\n",
        "Esta sección llama los requerimientos de paquetes, herramientas y funciones que vamos a utilizar en el análisis:\n",
        "\n",
        "* **Descarga de requerimientos para librería de procesamiento de texto:** \n",
        "  * `nltk.download(\"punkt\")`\n",
        "  * `nltk.download(\"stopwords\")`\n",
        "\n",
        "* **Definición de clase Stemmer:** Esta clase es llamada en el argumento `tokenizer` dentro de ambos vectorizadores: `CountVectorizer()` y `TfidfVectorizer()`\n",
        "\n",
        "* **Preprocesamiento de data:** Este proceso incluye:\n",
        "  * Cargar archivo de texto\n",
        "  * Aplicación de minúsculas a todas las palabras\n",
        "  * Exclusión de palabras de menos de tres caracteres\n",
        "  * Exclusión de *stopwords*\n",
        "  * Exclusión de secuencias no alfabéticas\n"
      ],
      "metadata": {
        "id": "qMBgwX88wSWS"
      }
    },
    {
      "cell_type": "code",
      "source": [
        "from nltk.corpus import stopwords\n",
        "import nltk\n",
        "from sklearn.feature_extraction.text import CountVectorizer\n",
        "import pandas as pd\n",
        "import matplotlib.pyplot as plt\n",
        "import seaborn as sns\n",
        "import numpy as np\n",
        "from sklearn.metrics.pairwise import cosine_similarity\n",
        "from sklearn.feature_extraction.text import TfidfVectorizer\n",
        "from nltk import word_tokenize          \n",
        "from nltk.stem import SnowballStemmer \n",
        "\n",
        "# DOWNLOAD NLTK REQUIREMENTS\n",
        "\n",
        "# Required by nltk stemmer\n",
        "\n",
        "nltk.download('punkt')\n",
        "\n",
        "# Required for filtering stopwords\n",
        "nltk.download(\"stopwords\")\n",
        "\n",
        "# Function for preprocessing .txt constitution file \n",
        "def preprocess_constitution_txt(path, stopwords):\n",
        "\n",
        "  \"\"\"\n",
        "    Preprocesses a filename from a path by splitting the words, lowercasing and\n",
        "    alphabetic sequences longer than 3 characters, and filtering stopwords out.\n",
        "    returns a single preprocessed string with the corpus\n",
        "\n",
        "    Args:\n",
        "\n",
        "      path (str):       path to file\n",
        "\n",
        "      stopwords (list): list of stopwords obtained importing nltk \n",
        "                        and nltk.download(\"stopwords),\n",
        "                        and setting stopwords = stopwords.words('spanish')\n",
        "  \"\"\"   \n",
        "  # Open file\n",
        "  f = open(path)\n",
        "\n",
        "  # Obtain the corpus in one single string\n",
        "  corpus = f.readlines()\n",
        "  corpus = \"\".join([line for line in corpus])\n",
        "\n",
        "  # Split string into words\n",
        "  corpus_split = corpus.split(\" \")\n",
        "\n",
        "  # Filter alphabetic sequences and lowercase them\n",
        "  alpha_lower = [word.lower() for word in corpus_split if word.isalpha()]\n",
        "\n",
        "  # Remove stopwords and return joined corpus, applicable in CountVectorizer \n",
        "  # and TfidfVectorizer() from sklearn.\n",
        "  \n",
        "  alpha_nostopwords = [word for word in alpha_lower if not word in stopwords and len(word) > 3]\n",
        "  return \" \".join(alpha_nostopwords)\n",
        "\n",
        "\n",
        "# Create dataframe with output from CountVectorizer()\n",
        "def create_dataframe(matrix, tokens):\n",
        "\n",
        "  doc_names = [f\"doc_{i+1}\" for i, _ in enumerate(matrix)]\n",
        "  df = pd.DataFrame(data=matrix, index=doc_names, columns=tokens)\n",
        "  df = df.transpose()\n",
        "  return(df)\n",
        "\n",
        "\n",
        "columns = [\"borrador_ch\",\n",
        "         \"const_bo\",\n",
        "         \"const_pe\",\n",
        "         \"const_ar\",\n",
        "         \"const_ve\",\n",
        "         \"const_ch_actual\"]\n",
        "\n",
        "sns.color_palette(\"viridis\", as_cmap=True);\n"
      ],
      "metadata": {
        "colab": {
          "base_uri": "https://localhost:8080/"
        },
        "id": "YRPfLfhOhdO6",
        "outputId": "eed9ebf8-4a38-496e-b7f7-40bb4063b98e"
      },
      "execution_count": null,
      "outputs": [
        {
          "output_type": "stream",
          "name": "stderr",
          "text": [
            "[nltk_data] Downloading package punkt to /root/nltk_data...\n",
            "[nltk_data]   Unzipping tokenizers/punkt.zip.\n",
            "[nltk_data] Downloading package stopwords to /root/nltk_data...\n",
            "[nltk_data]   Unzipping corpora/stopwords.zip.\n"
          ]
        }
      ]
    },
    {
      "cell_type": "markdown",
      "source": [
        "### 3.2 Manejo de stopwords\n",
        "\n",
        "En este paso definimos nuestras \"stopwords\" en español. En este paso queremos eliminar palabras que no aportan mucha información en general. Mediante este paso logramos una mejor filtración de la data y por ende, un mejor análisis. En este caso, se agregaron como *stopwords* las palabras \"artículo\", \"inciso\", \"letra\", \"véase\""
      ],
      "metadata": {
        "id": "PsBOi8olwovu"
      }
    },
    {
      "cell_type": "code",
      "source": [
        "# Stopwords management\n",
        "stopwords = stopwords.words('spanish')\n",
        "\n",
        "stopwords_append = [\"artículo\",\n",
        "                    \"inciso\",\n",
        "                    \"letra\",\n",
        "                    \"véase\"]\n",
        "\n",
        "for stopword in stopwords_append:\n",
        "\n",
        "  stopwords.append(stopword)\n"
      ],
      "metadata": {
        "id": "yPWKwuu_uJdr"
      },
      "execution_count": null,
      "outputs": []
    },
    {
      "cell_type": "markdown",
      "source": [
        "### 3.3 Importación de la data\n",
        "\n",
        "Aplicando la función `preprocess_constitution_txt()` cargamos los archivos en una secuencia que continee el texto preprocesado para ser analizado\n",
        "\n",
        ">**Nota -** A lo largo del documento, se diferencia el texto borrador constitucional de la República de Chile con el texto vigente, con énfasis en la palabra vigente. Por esto, quisiera mencionar que todos los textos constitucionales son hoy vigentes. \n",
        "\n",
        "**Textos utilizados:**\n",
        "\n",
        "* Borrador Constitución de la República de Chile, Mayo, 2022.\n",
        "* Constitución de la República de Bolivia, Febrero, 2009.\n",
        "* Constitución de la República del Perú, Julio, 2022.\n",
        "* Constitución de la República de Argentina, Enero, 1995.\n",
        "* Constitución de la República Bolivariana de Venezuela, Diciembre, 1999.\n",
        "* Constitucíón de la República de Chile, Octubre, 2010."
      ],
      "metadata": {
        "id": "XLjsZSPpxTVk"
      }
    },
    {
      "cell_type": "code",
      "source": [
        "path = \"/content/drive/MyDrive/\"\n",
        "corpus_ch_borrador = preprocess_constitution_txt(path+\"borrador_ch.txt\", stopwords)\n",
        "corpus_bo = preprocess_constitution_txt(path+\"const_bolivia.txt\", stopwords)\n",
        "corpus_pe = preprocess_constitution_txt(path+\"const_peru.txt\", stopwords)\n",
        "corpus_ar = preprocess_constitution_txt(path+\"const_argentina.txt\", stopwords)\n",
        "corpus_ve = preprocess_constitution_txt(path+\"const_venezuela.txt\", stopwords)\n",
        "corpus_ch = preprocess_constitution_txt(path+\"const_chile_vig.txt\", stopwords)"
      ],
      "metadata": {
        "id": "auLMuebQfLyX"
      },
      "execution_count": null,
      "outputs": []
    },
    {
      "cell_type": "markdown",
      "source": [
        "Para aplicar ambas vectorizaciones a los documentos, necesitamos el conjunto de documentos en una lista:"
      ],
      "metadata": {
        "id": "d6CaArax9Xa1"
      }
    },
    {
      "cell_type": "code",
      "source": [
        "data = [corpus_ch_borrador, \n",
        "        corpus_bo, \n",
        "        corpus_pe, \n",
        "        corpus_ar, \n",
        "        corpus_ve, \n",
        "        corpus_ch]"
      ],
      "metadata": {
        "id": "CEJ1KMG0892c"
      },
      "execution_count": null,
      "outputs": []
    },
    {
      "cell_type": "markdown",
      "source": [
        "### 3.4 Métodos de vectorización\n",
        "\n",
        "Se llevaron a cabo dos diferentes métodos de vectorización a los textos preprocesados:\n",
        "\n",
        "* `CountVectorizer()` o en español, vectorizador por conteo. \n",
        "\n",
        "* `TfidfVectorizer()` o \"Term frequency - inverse document frequency\".\n",
        "\n",
        "Ambos métodos de vectorización involucran dividir los textos en palabras o *tokens*, las cuales son posteriormente procesadas por el algoritmo *Stemmer*, en la sección 3.4."
      ],
      "metadata": {
        "id": "P_CQRQZQ3q6O"
      }
    },
    {
      "cell_type": "markdown",
      "source": [
        "#### 3.4.1 Definición del `Stemmer()`\n",
        "\n",
        "*Stemmer* es el algoritmo `SnowballStemmer()` extrae la raíz de las palabras. Así, se pueden agrupar las raíces y podemos extraer resultados más consistentes. En adelante nos referimos a las raíces de obtenidos como **secuencias** o **términos**.\n"
      ],
      "metadata": {
        "id": "Sv9mFnUk_B4Z"
      }
    },
    {
      "cell_type": "code",
      "source": [
        "# Define stemmer for CountVectorizer() and TfidfVectorizer()\n",
        "class Stemmer(object):\n",
        "    def __init__(self):\n",
        "        self.wnl = SnowballStemmer(\"spanish\")\n",
        "    def __call__(self, articles):\n",
        "        return [self.wnl.stem(t) for t in word_tokenize(articles)]"
      ],
      "metadata": {
        "id": "BDKxTROS_mjW"
      },
      "execution_count": null,
      "outputs": []
    },
    {
      "cell_type": "markdown",
      "source": [
        "#### 3.4.2 Vectorización por conteo (`CountVectorizer()`)\n",
        "\n",
        "<br>\n",
        "\n",
        "Inicializamos, entrenamos y transformamos los textos constitucionales preprocesados. En principio, lo que hace este algoritmo es dividir el texto preprocesado en palabras. Además se aplica el algoritmo definido, *Stemmer* que definimos en  \n",
        "\n",
        "<br>"
      ],
      "metadata": {
        "id": "24_ll503zuoM"
      }
    },
    {
      "cell_type": "code",
      "source": [
        "# Initialize, fit and transform CountVectorizer\n",
        "count_vectorizer = CountVectorizer(\n",
        "    tokenizer=Stemmer(),\n",
        "    min_df=1)\n",
        "\n",
        "count_vector_matrix = count_vectorizer.fit_transform(data)\n",
        "\n",
        "# Prepare count vectors for visualization\n",
        "\n",
        "count_tokens = count_vectorizer.get_feature_names_out()\n",
        "count_vectors_df = create_dataframe(count_vector_matrix.toarray(), count_tokens)\n",
        "count_vectors_df.columns = columns"
      ],
      "metadata": {
        "id": "wJr_JJM2dUQJ"
      },
      "execution_count": null,
      "outputs": []
    },
    {
      "cell_type": "markdown",
      "source": [
        "#### 3.4.3 Vectorización Tf-Idf (`TfidfVectorizer()`)\n",
        "\n",
        "Del inglés \"Term frequency - Inverse document frequency\", otorga un puntaje que mide, además de la frecuencia de palabras, la relevancia que ésta tiene. \n",
        "\n",
        "**Obtención de $T_f$ :**\n",
        "\n",
        "La frecuencia de un término en un documento se obtiene mediante la siguiente ecuación:\n",
        "\n",
        "<br>\n",
        "\n",
        "$$ T_{f}(t,d) = \\frac{f_{t,d}}{\\sum_{t^{'}\\in d}f_{t^{'},d}} $$\n",
        "\n",
        "<br>\n",
        "\n",
        "donde $f_{t,d}$ es el conteo de un término en un documento dado, o el número de veces que $t$ ocurre en el documento $d$ al cual pertenece. El denominador es solamente el conteo total de términos en ese documento.\n",
        "\n",
        "<br>\n",
        "\n",
        "**Obtención de $Idf$ :**\n",
        "\n",
        "El puntaje $Idf$ mide cuanta información la palabra provee, en función de si ésta es muy ocurrente o poco ocurrente en los demás documentos. Corresponde al logaritmo de la frecuencia **inversa** de un término en todos los documentos, y se obtiene de la siguiente manera:\n",
        "\n",
        "<br>\n",
        "\n",
        "$$idf(t, D) = log\\frac{N}{|\\{d \\in D : t \\in D\\}|}$$\n",
        "\n",
        "<br>\n",
        "\n",
        "con $N$ siendo el número total de documentos $d$, que pertenecen a una lista de documentos $D$. El denominador es el número total de documentos en el cual el término está presente, y será válido siempre y cuando éste sea distinto de cero. \n",
        "\n",
        "\n",
        "**Combinando ámbos**\n",
        "\n",
        "El puntaje $T_f-Idf$ multiplicando ámbos:\n",
        "\n",
        "<br>\n",
        "\n",
        "$$tfidf(t,d,D) = tf(t,d) \\cdot idf(t,D)$$\n",
        "\n"
      ],
      "metadata": {
        "id": "72X4O5ED-LGa"
      }
    },
    {
      "cell_type": "code",
      "source": [
        "# Initialize TfidfVectorizer(), fit and transform the data \n",
        "tfidf = TfidfVectorizer(tokenizer=Stemmer())\n",
        "tfidf_vectors = tfidf.fit_transform(data)\n",
        "tfidf_vectors = tfidf_vectors.toarray()\n",
        "\n",
        "# Prepare data for visualization\n",
        "tfidf_tokens = tfidf.get_feature_names_out()\n",
        "tfidf_vectors_df = create_dataframe(tfidf_vectors, tfidf_tokens)\n",
        "tfidf_vectors_df.columns = columns "
      ],
      "metadata": {
        "id": "5MB2eiXkf9HE"
      },
      "execution_count": null,
      "outputs": []
    },
    {
      "cell_type": "markdown",
      "source": [
        "#### Obtención de similitud del coseno\n",
        "\n",
        "Éste es un método analítico que mide la similitud entre dos vectores. Podemos calcularlo con la siguiente fórmula:\n",
        "\n",
        "<br>\n",
        "\n",
        "$$ K(X,Y) = \\frac{X \\cdot Y}{||X||*||Y||} $$\n",
        "\n",
        "<br>\n",
        "\n",
        "donde $K$ es la similitud del coseno entre los vectores $X$,$Y$. La operación es el producto punto entre ambos vectores, dividido por el producto cruz de la magnitud de ambos vectores.\n",
        "\n",
        "En nuestro análisis se tomó cada vector generado y se calculó una matríz que contiene las similitudes de cada documento entre sus pares."
      ],
      "metadata": {
        "id": "475UgjoCRQ7I"
      }
    },
    {
      "cell_type": "code",
      "source": [
        "\n",
        "# Compute cosine similarity matrix for vectors\n",
        "cosine_similarity_matrix = cosine_similarity(count_vector_matrix)\n",
        "cosine_similarity_tfidf = cosine_similarity(tfidf_vectors)\n",
        "\n",
        "# Create dataframe of cosine similarities\n",
        "countvec_cos_df = create_dataframe(cosine_similarity_matrix,columns)\n",
        "tfidf_cos_df = create_dataframe(cosine_similarity_tfidf,columns)\n",
        "\n",
        "# Change column names\n",
        "countvec_cos_df.columns = columns\n",
        "tfidf_cos_df.columns = columns"
      ],
      "metadata": {
        "id": "MTQEvFd48q_8"
      },
      "execution_count": null,
      "outputs": []
    },
    {
      "cell_type": "code",
      "source": [
        "# Settings for visualization\n",
        "figsize = (20,5)\n",
        "barwidth = 0.7\n",
        "colors = plt.cm.Paired(np.arange(len(count_vectors_df)))"
      ],
      "metadata": {
        "id": "T679UNNMYbeP"
      },
      "execution_count": null,
      "outputs": []
    },
    {
      "cell_type": "markdown",
      "source": [
        "## 4. Resultados\n",
        "\n",
        "La sección de resultados comienza mostrando los histogramas que nos muestran las distribuciones de términos o secuencias tanto del borrador constitucional como de la constitución vigente de la República de Chile respecto a los demás textos, mostrando finalmente la similitud entre textos. A continuación, se muestra una pauta de los resultados.\n",
        "\n",
        "* Conteo de palabras preprocesadas en ambos textos (sin Stemmer)\n",
        "* Histogramas de frecuencias de términos:\n",
        "  * Ordenado por frecuencia en borrador constitucional\n",
        "  * Ordenado por frecuencia en constitución vigente\n",
        "  * Análisis exclusivo entre borrador y constitución vigente\n",
        "\n",
        "* Histogramas de puntajes tf-idf \n",
        "  * Ordenado por puntaje en borrador constitucional\n",
        "  * Ordenaod puntaje en constitución vigente\n",
        "  * Análisis exclusivo entre borrador y constitución vigente\n",
        "\n",
        "* Similitudes entre textos constitucionales\n",
        "  * Frecuencias de términos\n",
        "  * Puntajes tf-idf\n",
        "\n",
        "Todos los análisis de histogramas consideraron solo las 30 palabras más utilizadas. Junto con los histogramas, se provee una tabla con los cinco términos con sus puntajes repectivos más altos. "
      ],
      "metadata": {
        "id": "QCflY7UXRJYh"
      }
    },
    {
      "cell_type": "markdown",
      "source": [
        "#### 4.1.1 Conteo de palabras en textos preprocesados\n",
        "\n",
        "A continuación, obtenemos el conteo total de palabras "
      ],
      "metadata": {
        "id": "YO4jGhUbuiqU"
      }
    },
    {
      "cell_type": "code",
      "source": [
        "print(f\"\"\"\n",
        "Conteo de palabras en texto borrador, República de Chile: {len(corpus_ch_borrador.split())}\n",
        "Conteo de palabras en texto, República de Bolivia: {len(corpus_bo.split())}\n",
        "Conteo de palabras en texto, República del Perú: {len(corpus_pe.split())}\n",
        "Conteo de palabras en texto, República Federal de Argentina: {len(corpus_ar.split())}\n",
        "Conteo de palabras en texto, República Bolivariana de Venezuela: {len(corpus_ve.split())}\n",
        "Conteo de palabras en texto, República de Chile: {len(corpus_ch.split())}\n",
        "\n",
        "\"\"\")\n",
        "\n"
      ],
      "metadata": {
        "colab": {
          "base_uri": "https://localhost:8080/"
        },
        "id": "yKhd17zVsxtz",
        "outputId": "2b6cc321-9fbc-4302-9916-cf7516f73167"
      },
      "execution_count": null,
      "outputs": [
        {
          "output_type": "stream",
          "name": "stdout",
          "text": [
            "\n",
            "Conteo de palabras en texto borrador, República de Chile: 16733\n",
            "Conteo de palabras en texto, República de Bolivia: 14189\n",
            "Conteo de palabras en texto, República del Perú: 7871\n",
            "Conteo de palabras en texto, República Federal de Argentina: 4859\n",
            "Conteo de palabras en texto, República Bolivariana de Venezuela: 13037\n",
            "Conteo de palabras en texto, República de Chile: 12708\n",
            "\n",
            "\n"
          ]
        }
      ]
    },
    {
      "cell_type": "markdown",
      "source": [
        "El tamaño total del vocabulario obtenido por la vectorización de conteo se muestra a continuación. Como el proceso de vectorización contiene la misma cantidad de tokens, dado que se aplicó el mismo proceso de tokenización, mediante el Stemmer, tenemos a continuación el tamaño del vocabulario con todas las secuencias:"
      ],
      "metadata": {
        "id": "2YnGcOZXdWLd"
      }
    },
    {
      "cell_type": "code",
      "source": [
        "print(f\"Tamaño de vocabulario luego de la vectorización de conteo: {len(count_tokens)}\")\n",
        "print(f\"Tamaño de vocabulario luego de la vectorización de tfidf: {len(tfidf_tokens)}\")"
      ],
      "metadata": {
        "colab": {
          "base_uri": "https://localhost:8080/"
        },
        "id": "Rf6idW5fd2vr",
        "outputId": "954487ba-e66b-46ce-93c4-fd4ba74499bd"
      },
      "execution_count": null,
      "outputs": [
        {
          "output_type": "stream",
          "name": "stdout",
          "text": [
            "Tamaño de vocabulario luego de la vectorización de conteo: 3433\n",
            "Tamaño de vocabulario luego de la vectorización de tfidf: 3433\n"
          ]
        }
      ]
    },
    {
      "cell_type": "markdown",
      "source": [
        "### 4.1. Histogramas de conteo de términos\n",
        "\n",
        "A continuación, podemos visualizar los resultados en histogramas que muestran como el conteo de secuencias se distribuye en el texto constitucional respecto a los otros textos. Los datos fueron reordenados de manera descendente."
      ],
      "metadata": {
        "id": "gEQ5TSm1gWwF"
      }
    },
    {
      "cell_type": "markdown",
      "source": [
        "#### 4.1.1.Borrador constitucional, República de Chile\n",
        "\n",
        "<br>\n",
        "\n",
        "El primer histograma, \"Conteo de secuencias, reordenadas respecto al texto borrador constitucional de la República de Chile\", muestra la distribución de secuencias más utilizadas. Se observa una distribución heterogénea de palabras entre textos constitucionales. Podemos observar que dentro de la muestra se observa a primera vista, que el texto borrador constitucional contiene más palabras que sus pares, como se observa también en la sección 4.1.1. \n",
        "\n",
        "\n",
        "Además de los peaks de secuencias propias del texto borrador, se observan otros peaks, mayores a los conteos del texto borrador, como \"president\" tanto en los textos de Venezuela y Perú, \"public\" más presente en el texto peruano y otros.\n"
      ],
      "metadata": {
        "id": "vbdA3bZAr-Q-"
      }
    },
    {
      "cell_type": "code",
      "source": [
        "plot_df_draft = count_vectors_df.sort_values(by=\"borrador_ch\",ascending=False).head(30)\n",
        "plot_df_draft.plot(kind=\"bar\", figsize=figsize, width=barwidth, color=colors);\n",
        "plt.title(\"Conteo de secuencias, reordenadas respecto al texto borrador constitucional de la República de Chile\");"
      ],
      "metadata": {
        "colab": {
          "base_uri": "https://localhost:8080/",
          "height": 379
        },
        "id": "jpvwHAzpBqOv",
        "outputId": "d4b474cf-2af6-4543-a082-08a11b9ae86e"
      },
      "execution_count": null,
      "outputs": [
        {
          "output_type": "display_data",
          "data": {
            "text/plain": [
              "<Figure size 1440x360 with 1 Axes>"
            ],
            "image/png": "[encoded data removed]"
          },
          "metadata": {
            "needs_background": "light"
          }
        }
      ]
    },
    {
      "cell_type": "code",
      "source": [
        "plot_df_draft[[\"borrador_ch\"]].rename(columns={\"borrador_ch\":\"Count\"}).head()"
      ],
      "metadata": {
        "colab": {
          "base_uri": "https://localhost:8080/",
          "height": 206
        },
        "id": "maGq1rsTEjcj",
        "outputId": "9564add1-8fb0-4a6d-957f-72c152a4f5ec"
      },
      "execution_count": null,
      "outputs": [
        {
          "output_type": "execute_result",
          "data": {
            "text/plain": [
              "           Count\n",
              "derech       359\n",
              "deb          284\n",
              "person       185\n",
              "president    172\n",
              "diput        171"
            ],
            "text/html": [
              "\n",
              "  <div id=\"df-f81bad69-40dc-4f6d-af0b-4b32c90ed052\">\n",
              "    <div class=\"colab-df-container\">\n",
              "      <div>\n",
              "<style scoped>\n",
              "    .dataframe tbody tr th:only-of-type {\n",
              "        vertical-align: middle;\n",
              "    }\n",
              "\n",
              "    .dataframe tbody tr th {\n",
              "        vertical-align: top;\n",
              "    }\n",
              "\n",
              "    .dataframe thead th {\n",
              "        text-align: right;\n",
              "    }\n",
              "</style>\n",
              "<table border=\"1\" class=\"dataframe\">\n",
              "  <thead>\n",
              "    <tr style=\"text-align: right;\">\n",
              "      <th></th>\n",
              "      <th>Count</th>\n",
              "    </tr>\n",
              "  </thead>\n",
              "  <tbody>\n",
              "    <tr>\n",
              "      <th>derech</th>\n",
              "      <td>359</td>\n",
              "    </tr>\n",
              "    <tr>\n",
              "      <th>deb</th>\n",
              "      <td>284</td>\n",
              "    </tr>\n",
              "    <tr>\n",
              "      <th>person</th>\n",
              "      <td>185</td>\n",
              "    </tr>\n",
              "    <tr>\n",
              "      <th>president</th>\n",
              "      <td>172</td>\n",
              "    </tr>\n",
              "    <tr>\n",
              "      <th>diput</th>\n",
              "      <td>171</td>\n",
              "    </tr>\n",
              "  </tbody>\n",
              "</table>\n",
              "</div>\n",
              "      <button class=\"colab-df-convert\" onclick=\"convertToInteractive('df-f81bad69-40dc-4f6d-af0b-4b32c90ed052')\"\n",
              "              title=\"Convert this dataframe to an interactive table.\"\n",
              "              style=\"display:none;\">\n",
              "        \n",
              "  <svg xmlns=\"http://www.w3.org/2000/svg\" height=\"24px\"viewBox=\"0 0 24 24\"\n",
              "       width=\"24px\">\n",
              "    <path d=\"M0 0h24v24H0V0z\" fill=\"none\"/>\n",
              "    <path d=\"M18.56 5.44l.94 2.06.94-2.06 2.06-.94-2.06-.94-.94-2.06-.94 2.06-2.06.94zm-11 1L8.5 8.5l.94-2.06 2.06-.94-2.06-.94L8.5 2.5l-.94 2.06-2.06.94zm10 10l.94 2.06.94-2.06 2.06-.94-2.06-.94-.94-2.06-.94 2.06-2.06.94z\"/><path d=\"M17.41 7.96l-1.37-1.37c-.4-.4-.92-.59-1.43-.59-.52 0-1.04.2-1.43.59L10.3 9.45l-7.72 7.72c-.78.78-.78 2.05 0 2.83L4 21.41c.39.39.9.59 1.41.59.51 0 1.02-.2 1.41-.59l7.78-7.78 2.81-2.81c.8-.78.8-2.07 0-2.86zM5.41 20L4 18.59l7.72-7.72 1.47 1.35L5.41 20z\"/>\n",
              "  </svg>\n",
              "      </button>\n",
              "      \n",
              "  <style>\n",
              "    .colab-df-container {\n",
              "      display:flex;\n",
              "      flex-wrap:wrap;\n",
              "      gap: 12px;\n",
              "    }\n",
              "\n",
              "    .colab-df-convert {\n",
              "      background-color: #E8F0FE;\n",
              "      border: none;\n",
              "      border-radius: 50%;\n",
              "      cursor: pointer;\n",
              "      display: none;\n",
              "      fill: #1967D2;\n",
              "      height: 32px;\n",
              "      padding: 0 0 0 0;\n",
              "      width: 32px;\n",
              "    }\n",
              "\n",
              "    .colab-df-convert:hover {\n",
              "      background-color: #E2EBFA;\n",
              "      box-shadow: 0px 1px 2px rgba(60, 64, 67, 0.3), 0px 1px 3px 1px rgba(60, 64, 67, 0.15);\n",
              "      fill: #174EA6;\n",
              "    }\n",
              "\n",
              "    [theme=dark] .colab-df-convert {\n",
              "      background-color: #3B4455;\n",
              "      fill: #D2E3FC;\n",
              "    }\n",
              "\n",
              "    [theme=dark] .colab-df-convert:hover {\n",
              "      background-color: #434B5C;\n",
              "      box-shadow: 0px 1px 3px 1px rgba(0, 0, 0, 0.15);\n",
              "      filter: drop-shadow(0px 1px 2px rgba(0, 0, 0, 0.3));\n",
              "      fill: #FFFFFF;\n",
              "    }\n",
              "  </style>\n",
              "\n",
              "      <script>\n",
              "        const buttonEl =\n",
              "          document.querySelector('#df-f81bad69-40dc-4f6d-af0b-4b32c90ed052 button.colab-df-convert');\n",
              "        buttonEl.style.display =\n",
              "          google.colab.kernel.accessAllowed ? 'block' : 'none';\n",
              "\n",
              "        async function convertToInteractive(key) {\n",
              "          const element = document.querySelector('#df-f81bad69-40dc-4f6d-af0b-4b32c90ed052');\n",
              "          const dataTable =\n",
              "            await google.colab.kernel.invokeFunction('convertToInteractive',\n",
              "                                                     [key], {});\n",
              "          if (!dataTable) return;\n",
              "\n",
              "          const docLinkHtml = 'Like what you see? Visit the ' +\n",
              "            '<a target=\"_blank\" href=https://colab.research.google.com/notebooks/data_table.ipynb>data table notebook</a>'\n",
              "            + ' to learn more about interactive tables.';\n",
              "          element.innerHTML = '';\n",
              "          dataTable['output_type'] = 'display_data';\n",
              "          await google.colab.output.renderOutput(dataTable, element);\n",
              "          const docLink = document.createElement('div');\n",
              "          docLink.innerHTML = docLinkHtml;\n",
              "          element.appendChild(docLink);\n",
              "        }\n",
              "      </script>\n",
              "    </div>\n",
              "  </div>\n",
              "  "
            ]
          },
          "metadata": {},
          "execution_count": 12
        }
      ]
    },
    {
      "cell_type": "markdown",
      "source": [
        "#### 4.1.2. Constitución vigente, República de Chile\n",
        "\n",
        "Análogo a lo realizado con el texto borrador, fue realizado con la constitución vigente. Se observan que la distribución del conteo se se acerca más a sus pares  (ver sección 4.1.1). La secuencia \"constitucional\" fue ampliamente más utilizada en el texto vigente respecto a los demás, al igual que \"reform\". Esto da cuenta de todas las reformas constitucionales que han habido desde sus inicios. Adicionalmente se observan peaks de los demás textos. El que tiende a resaltar más por su conteo de secuencias, es nuevamente el texto borrador.\n"
      ],
      "metadata": {
        "id": "VDZB8JxeFC7H"
      }
    },
    {
      "cell_type": "code",
      "source": [
        "plot_df_actual = count_vectors_df.sort_values(by=\"const_ch_actual\",ascending=False).head(30)\n",
        "plot_df_actual.plot(kind=\"bar\", figsize=figsize, width=barwidth, color=colors);"
      ],
      "metadata": {
        "colab": {
          "base_uri": "https://localhost:8080/",
          "height": 383
        },
        "id": "H3-0znCR9eWK",
        "outputId": "a126eda8-e124-41c9-af63-12a75505261f"
      },
      "execution_count": null,
      "outputs": [
        {
          "output_type": "display_data",
          "data": {
            "text/plain": [
              "<Figure size 1440x360 with 1 Axes>"
            ],
            "image/png": "[encoded data removed]"
          },
          "metadata": {
            "needs_background": "light"
          }
        }
      ]
    },
    {
      "cell_type": "markdown",
      "source": [
        "Las cinco palabras más utilizadas en el borrador de constitución de Chile y su conteo se muestran a continuación:\n"
      ],
      "metadata": {
        "id": "NKmkLNtiEzFK"
      }
    },
    {
      "cell_type": "code",
      "source": [
        "plot_df_actual[[\"const_ch_actual\"]].rename(columns={\"const_ch_actual\":\"Freq.\"}).head()"
      ],
      "metadata": {
        "colab": {
          "base_uri": "https://localhost:8080/",
          "height": 206
        },
        "id": "SeRVIsN8EbtA",
        "outputId": "ba45b8a2-041d-4aee-9164-6c1269b073dc"
      },
      "execution_count": null,
      "outputs": [
        {
          "output_type": "execute_result",
          "data": {
            "text/plain": [
              "                Freq.\n",
              "constitucional    382\n",
              "reform            267\n",
              "president         231\n",
              "republ            146\n",
              "organ             116"
            ],
            "text/html": [
              "\n",
              "  <div id=\"df-25332f16-768e-4f69-886a-19f9e29b6453\">\n",
              "    <div class=\"colab-df-container\">\n",
              "      <div>\n",
              "<style scoped>\n",
              "    .dataframe tbody tr th:only-of-type {\n",
              "        vertical-align: middle;\n",
              "    }\n",
              "\n",
              "    .dataframe tbody tr th {\n",
              "        vertical-align: top;\n",
              "    }\n",
              "\n",
              "    .dataframe thead th {\n",
              "        text-align: right;\n",
              "    }\n",
              "</style>\n",
              "<table border=\"1\" class=\"dataframe\">\n",
              "  <thead>\n",
              "    <tr style=\"text-align: right;\">\n",
              "      <th></th>\n",
              "      <th>Freq.</th>\n",
              "    </tr>\n",
              "  </thead>\n",
              "  <tbody>\n",
              "    <tr>\n",
              "      <th>constitucional</th>\n",
              "      <td>382</td>\n",
              "    </tr>\n",
              "    <tr>\n",
              "      <th>reform</th>\n",
              "      <td>267</td>\n",
              "    </tr>\n",
              "    <tr>\n",
              "      <th>president</th>\n",
              "      <td>231</td>\n",
              "    </tr>\n",
              "    <tr>\n",
              "      <th>republ</th>\n",
              "      <td>146</td>\n",
              "    </tr>\n",
              "    <tr>\n",
              "      <th>organ</th>\n",
              "      <td>116</td>\n",
              "    </tr>\n",
              "  </tbody>\n",
              "</table>\n",
              "</div>\n",
              "      <button class=\"colab-df-convert\" onclick=\"convertToInteractive('df-25332f16-768e-4f69-886a-19f9e29b6453')\"\n",
              "              title=\"Convert this dataframe to an interactive table.\"\n",
              "              style=\"display:none;\">\n",
              "        \n",
              "  <svg xmlns=\"http://www.w3.org/2000/svg\" height=\"24px\"viewBox=\"0 0 24 24\"\n",
              "       width=\"24px\">\n",
              "    <path d=\"M0 0h24v24H0V0z\" fill=\"none\"/>\n",
              "    <path d=\"M18.56 5.44l.94 2.06.94-2.06 2.06-.94-2.06-.94-.94-2.06-.94 2.06-2.06.94zm-11 1L8.5 8.5l.94-2.06 2.06-.94-2.06-.94L8.5 2.5l-.94 2.06-2.06.94zm10 10l.94 2.06.94-2.06 2.06-.94-2.06-.94-.94-2.06-.94 2.06-2.06.94z\"/><path d=\"M17.41 7.96l-1.37-1.37c-.4-.4-.92-.59-1.43-.59-.52 0-1.04.2-1.43.59L10.3 9.45l-7.72 7.72c-.78.78-.78 2.05 0 2.83L4 21.41c.39.39.9.59 1.41.59.51 0 1.02-.2 1.41-.59l7.78-7.78 2.81-2.81c.8-.78.8-2.07 0-2.86zM5.41 20L4 18.59l7.72-7.72 1.47 1.35L5.41 20z\"/>\n",
              "  </svg>\n",
              "      </button>\n",
              "      \n",
              "  <style>\n",
              "    .colab-df-container {\n",
              "      display:flex;\n",
              "      flex-wrap:wrap;\n",
              "      gap: 12px;\n",
              "    }\n",
              "\n",
              "    .colab-df-convert {\n",
              "      background-color: #E8F0FE;\n",
              "      border: none;\n",
              "      border-radius: 50%;\n",
              "      cursor: pointer;\n",
              "      display: none;\n",
              "      fill: #1967D2;\n",
              "      height: 32px;\n",
              "      padding: 0 0 0 0;\n",
              "      width: 32px;\n",
              "    }\n",
              "\n",
              "    .colab-df-convert:hover {\n",
              "      background-color: #E2EBFA;\n",
              "      box-shadow: 0px 1px 2px rgba(60, 64, 67, 0.3), 0px 1px 3px 1px rgba(60, 64, 67, 0.15);\n",
              "      fill: #174EA6;\n",
              "    }\n",
              "\n",
              "    [theme=dark] .colab-df-convert {\n",
              "      background-color: #3B4455;\n",
              "      fill: #D2E3FC;\n",
              "    }\n",
              "\n",
              "    [theme=dark] .colab-df-convert:hover {\n",
              "      background-color: #434B5C;\n",
              "      box-shadow: 0px 1px 3px 1px rgba(0, 0, 0, 0.15);\n",
              "      filter: drop-shadow(0px 1px 2px rgba(0, 0, 0, 0.3));\n",
              "      fill: #FFFFFF;\n",
              "    }\n",
              "  </style>\n",
              "\n",
              "      <script>\n",
              "        const buttonEl =\n",
              "          document.querySelector('#df-25332f16-768e-4f69-886a-19f9e29b6453 button.colab-df-convert');\n",
              "        buttonEl.style.display =\n",
              "          google.colab.kernel.accessAllowed ? 'block' : 'none';\n",
              "\n",
              "        async function convertToInteractive(key) {\n",
              "          const element = document.querySelector('#df-25332f16-768e-4f69-886a-19f9e29b6453');\n",
              "          const dataTable =\n",
              "            await google.colab.kernel.invokeFunction('convertToInteractive',\n",
              "                                                     [key], {});\n",
              "          if (!dataTable) return;\n",
              "\n",
              "          const docLinkHtml = 'Like what you see? Visit the ' +\n",
              "            '<a target=\"_blank\" href=https://colab.research.google.com/notebooks/data_table.ipynb>data table notebook</a>'\n",
              "            + ' to learn more about interactive tables.';\n",
              "          element.innerHTML = '';\n",
              "          dataTable['output_type'] = 'display_data';\n",
              "          await google.colab.output.renderOutput(dataTable, element);\n",
              "          const docLink = document.createElement('div');\n",
              "          docLink.innerHTML = docLinkHtml;\n",
              "          element.appendChild(docLink);\n",
              "        }\n",
              "      </script>\n",
              "    </div>\n",
              "  </div>\n",
              "  "
            ]
          },
          "metadata": {},
          "execution_count": 14
        }
      ]
    },
    {
      "cell_type": "markdown",
      "source": [
        "#### 4.1.3. Comparación entre borrador y constitución vigente de la República de Chile\n",
        "\n",
        "<br>\n",
        "\n",
        "Realizamos esta comparación de manera de visualizar de manera aislada, cómo se compara la distribución de secuencias entre el borrador y la constitución vigente. "
      ],
      "metadata": {
        "id": "E9nWB7UpCd3T"
      }
    },
    {
      "cell_type": "code",
      "source": [
        "plot_chile_df = count_vectors_df[[\"borrador_ch\",\"const_ch_actual\"]].sort_values(by=\"borrador_ch\", ascending=False).head(30)\n",
        "plot_chile_df.plot(kind=\"bar\", figsize=figsize, width=barwidth, color=colors);\n",
        "plt.title(\"Conteo de secuencias, reordenadas respecto al borrador constitucional de la República de Chile\");"
      ],
      "metadata": {
        "colab": {
          "base_uri": "https://localhost:8080/",
          "height": 379
        },
        "id": "0hSgKSLYiWgR",
        "outputId": "951667dc-a34d-4e91-ad3a-02d1af043e9e"
      },
      "execution_count": null,
      "outputs": [
        {
          "output_type": "display_data",
          "data": {
            "text/plain": [
              "<Figure size 1440x360 with 1 Axes>"
            ],
            "image/png": "[encoded data removed]"
          },
          "metadata": {
            "needs_background": "light"
          }
        }
      ]
    },
    {
      "cell_type": "code",
      "source": [
        "plot_chile_df[[\"borrador_ch\", \"const_ch_actual\"]].sort_values(by=\"borrador_ch\", ascending=False).head()"
      ],
      "metadata": {
        "colab": {
          "base_uri": "https://localhost:8080/",
          "height": 206
        },
        "id": "8qJNhsyEEJI7",
        "outputId": "3883afba-7e4d-4fdc-96e8-3b8ea3d579fc"
      },
      "execution_count": null,
      "outputs": [
        {
          "output_type": "execute_result",
          "data": {
            "text/plain": [
              "           borrador_ch  const_ch_actual\n",
              "derech             359              115\n",
              "deb                284              109\n",
              "person             185               54\n",
              "president          172              231\n",
              "diput              171               79"
            ],
            "text/html": [
              "\n",
              "  <div id=\"df-0fca47aa-b97e-4ff0-8aeb-35fadda73115\">\n",
              "    <div class=\"colab-df-container\">\n",
              "      <div>\n",
              "<style scoped>\n",
              "    .dataframe tbody tr th:only-of-type {\n",
              "        vertical-align: middle;\n",
              "    }\n",
              "\n",
              "    .dataframe tbody tr th {\n",
              "        vertical-align: top;\n",
              "    }\n",
              "\n",
              "    .dataframe thead th {\n",
              "        text-align: right;\n",
              "    }\n",
              "</style>\n",
              "<table border=\"1\" class=\"dataframe\">\n",
              "  <thead>\n",
              "    <tr style=\"text-align: right;\">\n",
              "      <th></th>\n",
              "      <th>borrador_ch</th>\n",
              "      <th>const_ch_actual</th>\n",
              "    </tr>\n",
              "  </thead>\n",
              "  <tbody>\n",
              "    <tr>\n",
              "      <th>derech</th>\n",
              "      <td>359</td>\n",
              "      <td>115</td>\n",
              "    </tr>\n",
              "    <tr>\n",
              "      <th>deb</th>\n",
              "      <td>284</td>\n",
              "      <td>109</td>\n",
              "    </tr>\n",
              "    <tr>\n",
              "      <th>person</th>\n",
              "      <td>185</td>\n",
              "      <td>54</td>\n",
              "    </tr>\n",
              "    <tr>\n",
              "      <th>president</th>\n",
              "      <td>172</td>\n",
              "      <td>231</td>\n",
              "    </tr>\n",
              "    <tr>\n",
              "      <th>diput</th>\n",
              "      <td>171</td>\n",
              "      <td>79</td>\n",
              "    </tr>\n",
              "  </tbody>\n",
              "</table>\n",
              "</div>\n",
              "      <button class=\"colab-df-convert\" onclick=\"convertToInteractive('df-0fca47aa-b97e-4ff0-8aeb-35fadda73115')\"\n",
              "              title=\"Convert this dataframe to an interactive table.\"\n",
              "              style=\"display:none;\">\n",
              "        \n",
              "  <svg xmlns=\"http://www.w3.org/2000/svg\" height=\"24px\"viewBox=\"0 0 24 24\"\n",
              "       width=\"24px\">\n",
              "    <path d=\"M0 0h24v24H0V0z\" fill=\"none\"/>\n",
              "    <path d=\"M18.56 5.44l.94 2.06.94-2.06 2.06-.94-2.06-.94-.94-2.06-.94 2.06-2.06.94zm-11 1L8.5 8.5l.94-2.06 2.06-.94-2.06-.94L8.5 2.5l-.94 2.06-2.06.94zm10 10l.94 2.06.94-2.06 2.06-.94-2.06-.94-.94-2.06-.94 2.06-2.06.94z\"/><path d=\"M17.41 7.96l-1.37-1.37c-.4-.4-.92-.59-1.43-.59-.52 0-1.04.2-1.43.59L10.3 9.45l-7.72 7.72c-.78.78-.78 2.05 0 2.83L4 21.41c.39.39.9.59 1.41.59.51 0 1.02-.2 1.41-.59l7.78-7.78 2.81-2.81c.8-.78.8-2.07 0-2.86zM5.41 20L4 18.59l7.72-7.72 1.47 1.35L5.41 20z\"/>\n",
              "  </svg>\n",
              "      </button>\n",
              "      \n",
              "  <style>\n",
              "    .colab-df-container {\n",
              "      display:flex;\n",
              "      flex-wrap:wrap;\n",
              "      gap: 12px;\n",
              "    }\n",
              "\n",
              "    .colab-df-convert {\n",
              "      background-color: #E8F0FE;\n",
              "      border: none;\n",
              "      border-radius: 50%;\n",
              "      cursor: pointer;\n",
              "      display: none;\n",
              "      fill: #1967D2;\n",
              "      height: 32px;\n",
              "      padding: 0 0 0 0;\n",
              "      width: 32px;\n",
              "    }\n",
              "\n",
              "    .colab-df-convert:hover {\n",
              "      background-color: #E2EBFA;\n",
              "      box-shadow: 0px 1px 2px rgba(60, 64, 67, 0.3), 0px 1px 3px 1px rgba(60, 64, 67, 0.15);\n",
              "      fill: #174EA6;\n",
              "    }\n",
              "\n",
              "    [theme=dark] .colab-df-convert {\n",
              "      background-color: #3B4455;\n",
              "      fill: #D2E3FC;\n",
              "    }\n",
              "\n",
              "    [theme=dark] .colab-df-convert:hover {\n",
              "      background-color: #434B5C;\n",
              "      box-shadow: 0px 1px 3px 1px rgba(0, 0, 0, 0.15);\n",
              "      filter: drop-shadow(0px 1px 2px rgba(0, 0, 0, 0.3));\n",
              "      fill: #FFFFFF;\n",
              "    }\n",
              "  </style>\n",
              "\n",
              "      <script>\n",
              "        const buttonEl =\n",
              "          document.querySelector('#df-0fca47aa-b97e-4ff0-8aeb-35fadda73115 button.colab-df-convert');\n",
              "        buttonEl.style.display =\n",
              "          google.colab.kernel.accessAllowed ? 'block' : 'none';\n",
              "\n",
              "        async function convertToInteractive(key) {\n",
              "          const element = document.querySelector('#df-0fca47aa-b97e-4ff0-8aeb-35fadda73115');\n",
              "          const dataTable =\n",
              "            await google.colab.kernel.invokeFunction('convertToInteractive',\n",
              "                                                     [key], {});\n",
              "          if (!dataTable) return;\n",
              "\n",
              "          const docLinkHtml = 'Like what you see? Visit the ' +\n",
              "            '<a target=\"_blank\" href=https://colab.research.google.com/notebooks/data_table.ipynb>data table notebook</a>'\n",
              "            + ' to learn more about interactive tables.';\n",
              "          element.innerHTML = '';\n",
              "          dataTable['output_type'] = 'display_data';\n",
              "          await google.colab.output.renderOutput(dataTable, element);\n",
              "          const docLink = document.createElement('div');\n",
              "          docLink.innerHTML = docLinkHtml;\n",
              "          element.appendChild(docLink);\n",
              "        }\n",
              "      </script>\n",
              "    </div>\n",
              "  </div>\n",
              "  "
            ]
          },
          "metadata": {},
          "execution_count": 17
        }
      ]
    },
    {
      "cell_type": "markdown",
      "source": [
        "Respecto a a la distribución de secuencias en el texto vigente, Estos se presentan en relación a su frecuencia en el texto borrador. Se observa una notable diferencia en la frecuencia de la secuencia \"constitucional\" en ambos documentos con 382 menciones en la constitución vigente, frente a 46 veces en el texto borrador."
      ],
      "metadata": {
        "id": "Epi-tFnYFrCw"
      }
    },
    {
      "cell_type": "code",
      "source": [
        "plot_chile_df = count_vectors_df[[\"borrador_ch\",\"const_ch_actual\"]].sort_values(by=\"const_ch_actual\", ascending=False).head(30)\n",
        "plot_chile_df.plot(kind=\"bar\", figsize=figsize, width=barwidth, color=colors);\n",
        "plt.title(\"Frecuencia de secuencias, reordenadas respecto a la constitución vigente de la República de Chile\");"
      ],
      "metadata": {
        "colab": {
          "base_uri": "https://localhost:8080/",
          "height": 396
        },
        "id": "3Ai6Mqq-_WTV",
        "outputId": "4dcd5519-4639-47b4-c287-08b3fd5fc413"
      },
      "execution_count": null,
      "outputs": [
        {
          "output_type": "display_data",
          "data": {
            "text/plain": [
              "<Figure size 1440x360 with 1 Axes>"
            ],
            "image/png": "[encoded data removed]"
          },
          "metadata": {
            "needs_background": "light"
          }
        }
      ]
    },
    {
      "cell_type": "code",
      "source": [
        "plot_chile_df[[\"borrador_ch\", \"const_ch_actual\"]].sort_values(by=\"const_ch_actual\", ascending=False).head()"
      ],
      "metadata": {
        "colab": {
          "base_uri": "https://localhost:8080/",
          "height": 206
        },
        "id": "2Ir1hMJdEH0x",
        "outputId": "a0dd98e8-037f-4f36-faae-6b1675d94d38"
      },
      "execution_count": null,
      "outputs": [
        {
          "output_type": "execute_result",
          "data": {
            "text/plain": [
              "                borrador_ch  const_ch_actual\n",
              "constitucional           46              382\n",
              "reform                   17              267\n",
              "president               172              231\n",
              "republ                   56              146\n",
              "organ                   108              116"
            ],
            "text/html": [
              "\n",
              "  <div id=\"df-4e0e26d1-2ce4-4e76-aecd-06eb82d2ac3c\">\n",
              "    <div class=\"colab-df-container\">\n",
              "      <div>\n",
              "<style scoped>\n",
              "    .dataframe tbody tr th:only-of-type {\n",
              "        vertical-align: middle;\n",
              "    }\n",
              "\n",
              "    .dataframe tbody tr th {\n",
              "        vertical-align: top;\n",
              "    }\n",
              "\n",
              "    .dataframe thead th {\n",
              "        text-align: right;\n",
              "    }\n",
              "</style>\n",
              "<table border=\"1\" class=\"dataframe\">\n",
              "  <thead>\n",
              "    <tr style=\"text-align: right;\">\n",
              "      <th></th>\n",
              "      <th>borrador_ch</th>\n",
              "      <th>const_ch_actual</th>\n",
              "    </tr>\n",
              "  </thead>\n",
              "  <tbody>\n",
              "    <tr>\n",
              "      <th>constitucional</th>\n",
              "      <td>46</td>\n",
              "      <td>382</td>\n",
              "    </tr>\n",
              "    <tr>\n",
              "      <th>reform</th>\n",
              "      <td>17</td>\n",
              "      <td>267</td>\n",
              "    </tr>\n",
              "    <tr>\n",
              "      <th>president</th>\n",
              "      <td>172</td>\n",
              "      <td>231</td>\n",
              "    </tr>\n",
              "    <tr>\n",
              "      <th>republ</th>\n",
              "      <td>56</td>\n",
              "      <td>146</td>\n",
              "    </tr>\n",
              "    <tr>\n",
              "      <th>organ</th>\n",
              "      <td>108</td>\n",
              "      <td>116</td>\n",
              "    </tr>\n",
              "  </tbody>\n",
              "</table>\n",
              "</div>\n",
              "      <button class=\"colab-df-convert\" onclick=\"convertToInteractive('df-4e0e26d1-2ce4-4e76-aecd-06eb82d2ac3c')\"\n",
              "              title=\"Convert this dataframe to an interactive table.\"\n",
              "              style=\"display:none;\">\n",
              "        \n",
              "  <svg xmlns=\"http://www.w3.org/2000/svg\" height=\"24px\"viewBox=\"0 0 24 24\"\n",
              "       width=\"24px\">\n",
              "    <path d=\"M0 0h24v24H0V0z\" fill=\"none\"/>\n",
              "    <path d=\"M18.56 5.44l.94 2.06.94-2.06 2.06-.94-2.06-.94-.94-2.06-.94 2.06-2.06.94zm-11 1L8.5 8.5l.94-2.06 2.06-.94-2.06-.94L8.5 2.5l-.94 2.06-2.06.94zm10 10l.94 2.06.94-2.06 2.06-.94-2.06-.94-.94-2.06-.94 2.06-2.06.94z\"/><path d=\"M17.41 7.96l-1.37-1.37c-.4-.4-.92-.59-1.43-.59-.52 0-1.04.2-1.43.59L10.3 9.45l-7.72 7.72c-.78.78-.78 2.05 0 2.83L4 21.41c.39.39.9.59 1.41.59.51 0 1.02-.2 1.41-.59l7.78-7.78 2.81-2.81c.8-.78.8-2.07 0-2.86zM5.41 20L4 18.59l7.72-7.72 1.47 1.35L5.41 20z\"/>\n",
              "  </svg>\n",
              "      </button>\n",
              "      \n",
              "  <style>\n",
              "    .colab-df-container {\n",
              "      display:flex;\n",
              "      flex-wrap:wrap;\n",
              "      gap: 12px;\n",
              "    }\n",
              "\n",
              "    .colab-df-convert {\n",
              "      background-color: #E8F0FE;\n",
              "      border: none;\n",
              "      border-radius: 50%;\n",
              "      cursor: pointer;\n",
              "      display: none;\n",
              "      fill: #1967D2;\n",
              "      height: 32px;\n",
              "      padding: 0 0 0 0;\n",
              "      width: 32px;\n",
              "    }\n",
              "\n",
              "    .colab-df-convert:hover {\n",
              "      background-color: #E2EBFA;\n",
              "      box-shadow: 0px 1px 2px rgba(60, 64, 67, 0.3), 0px 1px 3px 1px rgba(60, 64, 67, 0.15);\n",
              "      fill: #174EA6;\n",
              "    }\n",
              "\n",
              "    [theme=dark] .colab-df-convert {\n",
              "      background-color: #3B4455;\n",
              "      fill: #D2E3FC;\n",
              "    }\n",
              "\n",
              "    [theme=dark] .colab-df-convert:hover {\n",
              "      background-color: #434B5C;\n",
              "      box-shadow: 0px 1px 3px 1px rgba(0, 0, 0, 0.15);\n",
              "      filter: drop-shadow(0px 1px 2px rgba(0, 0, 0, 0.3));\n",
              "      fill: #FFFFFF;\n",
              "    }\n",
              "  </style>\n",
              "\n",
              "      <script>\n",
              "        const buttonEl =\n",
              "          document.querySelector('#df-4e0e26d1-2ce4-4e76-aecd-06eb82d2ac3c button.colab-df-convert');\n",
              "        buttonEl.style.display =\n",
              "          google.colab.kernel.accessAllowed ? 'block' : 'none';\n",
              "\n",
              "        async function convertToInteractive(key) {\n",
              "          const element = document.querySelector('#df-4e0e26d1-2ce4-4e76-aecd-06eb82d2ac3c');\n",
              "          const dataTable =\n",
              "            await google.colab.kernel.invokeFunction('convertToInteractive',\n",
              "                                                     [key], {});\n",
              "          if (!dataTable) return;\n",
              "\n",
              "          const docLinkHtml = 'Like what you see? Visit the ' +\n",
              "            '<a target=\"_blank\" href=https://colab.research.google.com/notebooks/data_table.ipynb>data table notebook</a>'\n",
              "            + ' to learn more about interactive tables.';\n",
              "          element.innerHTML = '';\n",
              "          dataTable['output_type'] = 'display_data';\n",
              "          await google.colab.output.renderOutput(dataTable, element);\n",
              "          const docLink = document.createElement('div');\n",
              "          docLink.innerHTML = docLinkHtml;\n",
              "          element.appendChild(docLink);\n",
              "        }\n",
              "      </script>\n",
              "    </div>\n",
              "  </div>\n",
              "  "
            ]
          },
          "metadata": {},
          "execution_count": 19
        }
      ]
    },
    {
      "cell_type": "markdown",
      "source": [
        "### 4.2 Histogramas de puntajes Tf-Idf\n",
        "\n",
        "Luego de haber revisado los histogramas de conteo de secuencias en los textos en cuestión, realizamos el mismo análisis para las similitudes entre vectores tfidf. Así, el puntaje de frecuencia-relevancia se visualizan respecto a los demás textos."
      ],
      "metadata": {
        "id": "-lbY42a10pi4"
      }
    },
    {
      "cell_type": "markdown",
      "source": [
        "#### 4.2.1. Borrador constitucional, República de Chile\n",
        "\n",
        "<br>\n",
        "\n",
        "A continuación el histograma llamado \"Puntaje tf-idf de secuencias del borrador constitucional de la Repúbica de Chile, en orden descendente\" muestra que el texto borrador otorga más valor a la secuencia \"derech\" con 0.37, seguida por \"deb\" con 0.29. El peak más alto obtenido que no corresponde al texto borrador se observó en la secuencia \"president\", con ~0.27 en la constitución vigente de la República de Chile, seguido cercanamente por la secuencia \"public\", siendo más valorada por el texto de la República del Perú."
      ],
      "metadata": {
        "id": "8L4QhyPwQKBc"
      }
    },
    {
      "cell_type": "code",
      "source": [
        "plot_df_borrador = tfidf_vectors_df.sort_values(by=\"borrador_ch\",ascending=False).head(30)\n",
        "plot_df_borrador.plot(kind=\"bar\", figsize=figsize, width=barwidth, color=colors);\n",
        "plt.title(\"Puntaje Tf-Idf de secuencias del borrador constitucional de la Repúbica de Chile, en orden descendente\");"
      ],
      "metadata": {
        "colab": {
          "base_uri": "https://localhost:8080/",
          "height": 379
        },
        "id": "1KzAE7rUUUzj",
        "outputId": "d26367d2-ab8c-4490-8b1c-a78482aaabfc"
      },
      "execution_count": null,
      "outputs": [
        {
          "output_type": "display_data",
          "data": {
            "text/plain": [
              "<Figure size 1440x360 with 1 Axes>"
            ],
            "image/png": "[encoded data removed]"
          },
          "metadata": {
            "needs_background": "light"
          }
        }
      ]
    },
    {
      "cell_type": "code",
      "source": [
        "plot_df_borrador[[\"borrador_ch\"]].rename(columns={\"borrador_ch\":\"Tf-Idf score\"}).head()"
      ],
      "metadata": {
        "colab": {
          "base_uri": "https://localhost:8080/",
          "height": 206
        },
        "id": "uvJGoTnN0o8m",
        "outputId": "966e9015-8496-4966-9dce-44fd1d33ffec"
      },
      "execution_count": null,
      "outputs": [
        {
          "output_type": "execute_result",
          "data": {
            "text/plain": [
              "           Tf-Idf score\n",
              "derech         0.368018\n",
              "deb            0.291134\n",
              "diput          0.202317\n",
              "person         0.189647\n",
              "president      0.176320"
            ],
            "text/html": [
              "\n",
              "  <div id=\"df-5a2a7c25-c232-4f33-a2af-077bf5fc1bc8\">\n",
              "    <div class=\"colab-df-container\">\n",
              "      <div>\n",
              "<style scoped>\n",
              "    .dataframe tbody tr th:only-of-type {\n",
              "        vertical-align: middle;\n",
              "    }\n",
              "\n",
              "    .dataframe tbody tr th {\n",
              "        vertical-align: top;\n",
              "    }\n",
              "\n",
              "    .dataframe thead th {\n",
              "        text-align: right;\n",
              "    }\n",
              "</style>\n",
              "<table border=\"1\" class=\"dataframe\">\n",
              "  <thead>\n",
              "    <tr style=\"text-align: right;\">\n",
              "      <th></th>\n",
              "      <th>Tf-Idf score</th>\n",
              "    </tr>\n",
              "  </thead>\n",
              "  <tbody>\n",
              "    <tr>\n",
              "      <th>derech</th>\n",
              "      <td>0.368018</td>\n",
              "    </tr>\n",
              "    <tr>\n",
              "      <th>deb</th>\n",
              "      <td>0.291134</td>\n",
              "    </tr>\n",
              "    <tr>\n",
              "      <th>diput</th>\n",
              "      <td>0.202317</td>\n",
              "    </tr>\n",
              "    <tr>\n",
              "      <th>person</th>\n",
              "      <td>0.189647</td>\n",
              "    </tr>\n",
              "    <tr>\n",
              "      <th>president</th>\n",
              "      <td>0.176320</td>\n",
              "    </tr>\n",
              "  </tbody>\n",
              "</table>\n",
              "</div>\n",
              "      <button class=\"colab-df-convert\" onclick=\"convertToInteractive('df-5a2a7c25-c232-4f33-a2af-077bf5fc1bc8')\"\n",
              "              title=\"Convert this dataframe to an interactive table.\"\n",
              "              style=\"display:none;\">\n",
              "        \n",
              "  <svg xmlns=\"http://www.w3.org/2000/svg\" height=\"24px\"viewBox=\"0 0 24 24\"\n",
              "       width=\"24px\">\n",
              "    <path d=\"M0 0h24v24H0V0z\" fill=\"none\"/>\n",
              "    <path d=\"M18.56 5.44l.94 2.06.94-2.06 2.06-.94-2.06-.94-.94-2.06-.94 2.06-2.06.94zm-11 1L8.5 8.5l.94-2.06 2.06-.94-2.06-.94L8.5 2.5l-.94 2.06-2.06.94zm10 10l.94 2.06.94-2.06 2.06-.94-2.06-.94-.94-2.06-.94 2.06-2.06.94z\"/><path d=\"M17.41 7.96l-1.37-1.37c-.4-.4-.92-.59-1.43-.59-.52 0-1.04.2-1.43.59L10.3 9.45l-7.72 7.72c-.78.78-.78 2.05 0 2.83L4 21.41c.39.39.9.59 1.41.59.51 0 1.02-.2 1.41-.59l7.78-7.78 2.81-2.81c.8-.78.8-2.07 0-2.86zM5.41 20L4 18.59l7.72-7.72 1.47 1.35L5.41 20z\"/>\n",
              "  </svg>\n",
              "      </button>\n",
              "      \n",
              "  <style>\n",
              "    .colab-df-container {\n",
              "      display:flex;\n",
              "      flex-wrap:wrap;\n",
              "      gap: 12px;\n",
              "    }\n",
              "\n",
              "    .colab-df-convert {\n",
              "      background-color: #E8F0FE;\n",
              "      border: none;\n",
              "      border-radius: 50%;\n",
              "      cursor: pointer;\n",
              "      display: none;\n",
              "      fill: #1967D2;\n",
              "      height: 32px;\n",
              "      padding: 0 0 0 0;\n",
              "      width: 32px;\n",
              "    }\n",
              "\n",
              "    .colab-df-convert:hover {\n",
              "      background-color: #E2EBFA;\n",
              "      box-shadow: 0px 1px 2px rgba(60, 64, 67, 0.3), 0px 1px 3px 1px rgba(60, 64, 67, 0.15);\n",
              "      fill: #174EA6;\n",
              "    }\n",
              "\n",
              "    [theme=dark] .colab-df-convert {\n",
              "      background-color: #3B4455;\n",
              "      fill: #D2E3FC;\n",
              "    }\n",
              "\n",
              "    [theme=dark] .colab-df-convert:hover {\n",
              "      background-color: #434B5C;\n",
              "      box-shadow: 0px 1px 3px 1px rgba(0, 0, 0, 0.15);\n",
              "      filter: drop-shadow(0px 1px 2px rgba(0, 0, 0, 0.3));\n",
              "      fill: #FFFFFF;\n",
              "    }\n",
              "  </style>\n",
              "\n",
              "      <script>\n",
              "        const buttonEl =\n",
              "          document.querySelector('#df-5a2a7c25-c232-4f33-a2af-077bf5fc1bc8 button.colab-df-convert');\n",
              "        buttonEl.style.display =\n",
              "          google.colab.kernel.accessAllowed ? 'block' : 'none';\n",
              "\n",
              "        async function convertToInteractive(key) {\n",
              "          const element = document.querySelector('#df-5a2a7c25-c232-4f33-a2af-077bf5fc1bc8');\n",
              "          const dataTable =\n",
              "            await google.colab.kernel.invokeFunction('convertToInteractive',\n",
              "                                                     [key], {});\n",
              "          if (!dataTable) return;\n",
              "\n",
              "          const docLinkHtml = 'Like what you see? Visit the ' +\n",
              "            '<a target=\"_blank\" href=https://colab.research.google.com/notebooks/data_table.ipynb>data table notebook</a>'\n",
              "            + ' to learn more about interactive tables.';\n",
              "          element.innerHTML = '';\n",
              "          dataTable['output_type'] = 'display_data';\n",
              "          await google.colab.output.renderOutput(dataTable, element);\n",
              "          const docLink = document.createElement('div');\n",
              "          docLink.innerHTML = docLinkHtml;\n",
              "          element.appendChild(docLink);\n",
              "        }\n",
              "      </script>\n",
              "    </div>\n",
              "  </div>\n",
              "  "
            ]
          },
          "metadata": {},
          "execution_count": 23
        }
      ]
    },
    {
      "cell_type": "markdown",
      "source": [
        "#### 4.2.2 Constitución vigente de la República de Chile\n",
        "\n",
        "Los resultados de la figura \"Puntaje Tf-Idf de secuencias de la constitución vigente de la República de Chile, en orden descendente\" muestra que el puntaje de frecuencia-relevancia de las secuencias fue más alto para la secuencia \"constitucional\" con 0.45, segudio por \"reform\" con 0.31. Los cinco mayores puntajes se observan a continuación del gráfico.\n",
        "\n",
        "En cuanto a la distribución de secuencias, dentro de esta muestra, el peak más alto que se observa de otro texto constitucional, es en la secuencia \"derech\", seguido por \"deb\" en el texto borrador de la República de Chile. En cuanto a la secuencia \"reform\", su puntaje es significativamente más alto que en los textos relacionados, con un puntaje cercano a 0.3, vs un máximo no superior a 0.05."
      ],
      "metadata": {
        "id": "nhnZsesfRfg1"
      }
    },
    {
      "cell_type": "code",
      "source": [
        "plot_df_actual = tfidf_vectors_df.sort_values(by=\"const_ch_actual\", ascending=False).head(30)\n",
        "plot_df_actual.plot(kind=\"bar\", figsize=figsize, width=barwidth, color=colors);\n",
        "plt.title(\"Puntaje Tf-Idf de secuencias de la constitución vigente de la República de Chile, en orden ascendente\");"
      ],
      "metadata": {
        "colab": {
          "base_uri": "https://localhost:8080/",
          "height": 396
        },
        "id": "_aNf49Dvgweu",
        "outputId": "d183eef9-1106-4c3a-cdcc-ffc7ff4b94e8"
      },
      "execution_count": null,
      "outputs": [
        {
          "output_type": "display_data",
          "data": {
            "text/plain": [
              "<Figure size 1440x360 with 1 Axes>"
            ],
            "image/png": "[encoded data removed]"
          },
          "metadata": {
            "needs_background": "light"
          }
        }
      ]
    },
    {
      "cell_type": "code",
      "source": [
        "plot_df_actual[[\"const_ch_actual\"]].rename(columns={\"const_ch_actual\":\"Tf-Idf score\"}).head()"
      ],
      "metadata": {
        "colab": {
          "base_uri": "https://localhost:8080/",
          "height": 206
        },
        "id": "Iaq-L2li09ve",
        "outputId": "84c7d203-afa3-4e8b-dbe7-7d215e5ab640"
      },
      "execution_count": null,
      "outputs": [
        {
          "output_type": "execute_result",
          "data": {
            "text/plain": [
              "                Tf-Idf score\n",
              "constitucional      0.451117\n",
              "reform              0.315309\n",
              "president           0.272796\n",
              "parraf              0.178655\n",
              "republ              0.172416"
            ],
            "text/html": [
              "\n",
              "  <div id=\"df-754a02bc-2b85-408f-b929-a68810f984b9\">\n",
              "    <div class=\"colab-df-container\">\n",
              "      <div>\n",
              "<style scoped>\n",
              "    .dataframe tbody tr th:only-of-type {\n",
              "        vertical-align: middle;\n",
              "    }\n",
              "\n",
              "    .dataframe tbody tr th {\n",
              "        vertical-align: top;\n",
              "    }\n",
              "\n",
              "    .dataframe thead th {\n",
              "        text-align: right;\n",
              "    }\n",
              "</style>\n",
              "<table border=\"1\" class=\"dataframe\">\n",
              "  <thead>\n",
              "    <tr style=\"text-align: right;\">\n",
              "      <th></th>\n",
              "      <th>Tf-Idf score</th>\n",
              "    </tr>\n",
              "  </thead>\n",
              "  <tbody>\n",
              "    <tr>\n",
              "      <th>constitucional</th>\n",
              "      <td>0.451117</td>\n",
              "    </tr>\n",
              "    <tr>\n",
              "      <th>reform</th>\n",
              "      <td>0.315309</td>\n",
              "    </tr>\n",
              "    <tr>\n",
              "      <th>president</th>\n",
              "      <td>0.272796</td>\n",
              "    </tr>\n",
              "    <tr>\n",
              "      <th>parraf</th>\n",
              "      <td>0.178655</td>\n",
              "    </tr>\n",
              "    <tr>\n",
              "      <th>republ</th>\n",
              "      <td>0.172416</td>\n",
              "    </tr>\n",
              "  </tbody>\n",
              "</table>\n",
              "</div>\n",
              "      <button class=\"colab-df-convert\" onclick=\"convertToInteractive('df-754a02bc-2b85-408f-b929-a68810f984b9')\"\n",
              "              title=\"Convert this dataframe to an interactive table.\"\n",
              "              style=\"display:none;\">\n",
              "        \n",
              "  <svg xmlns=\"http://www.w3.org/2000/svg\" height=\"24px\"viewBox=\"0 0 24 24\"\n",
              "       width=\"24px\">\n",
              "    <path d=\"M0 0h24v24H0V0z\" fill=\"none\"/>\n",
              "    <path d=\"M18.56 5.44l.94 2.06.94-2.06 2.06-.94-2.06-.94-.94-2.06-.94 2.06-2.06.94zm-11 1L8.5 8.5l.94-2.06 2.06-.94-2.06-.94L8.5 2.5l-.94 2.06-2.06.94zm10 10l.94 2.06.94-2.06 2.06-.94-2.06-.94-.94-2.06-.94 2.06-2.06.94z\"/><path d=\"M17.41 7.96l-1.37-1.37c-.4-.4-.92-.59-1.43-.59-.52 0-1.04.2-1.43.59L10.3 9.45l-7.72 7.72c-.78.78-.78 2.05 0 2.83L4 21.41c.39.39.9.59 1.41.59.51 0 1.02-.2 1.41-.59l7.78-7.78 2.81-2.81c.8-.78.8-2.07 0-2.86zM5.41 20L4 18.59l7.72-7.72 1.47 1.35L5.41 20z\"/>\n",
              "  </svg>\n",
              "      </button>\n",
              "      \n",
              "  <style>\n",
              "    .colab-df-container {\n",
              "      display:flex;\n",
              "      flex-wrap:wrap;\n",
              "      gap: 12px;\n",
              "    }\n",
              "\n",
              "    .colab-df-convert {\n",
              "      background-color: #E8F0FE;\n",
              "      border: none;\n",
              "      border-radius: 50%;\n",
              "      cursor: pointer;\n",
              "      display: none;\n",
              "      fill: #1967D2;\n",
              "      height: 32px;\n",
              "      padding: 0 0 0 0;\n",
              "      width: 32px;\n",
              "    }\n",
              "\n",
              "    .colab-df-convert:hover {\n",
              "      background-color: #E2EBFA;\n",
              "      box-shadow: 0px 1px 2px rgba(60, 64, 67, 0.3), 0px 1px 3px 1px rgba(60, 64, 67, 0.15);\n",
              "      fill: #174EA6;\n",
              "    }\n",
              "\n",
              "    [theme=dark] .colab-df-convert {\n",
              "      background-color: #3B4455;\n",
              "      fill: #D2E3FC;\n",
              "    }\n",
              "\n",
              "    [theme=dark] .colab-df-convert:hover {\n",
              "      background-color: #434B5C;\n",
              "      box-shadow: 0px 1px 3px 1px rgba(0, 0, 0, 0.15);\n",
              "      filter: drop-shadow(0px 1px 2px rgba(0, 0, 0, 0.3));\n",
              "      fill: #FFFFFF;\n",
              "    }\n",
              "  </style>\n",
              "\n",
              "      <script>\n",
              "        const buttonEl =\n",
              "          document.querySelector('#df-754a02bc-2b85-408f-b929-a68810f984b9 button.colab-df-convert');\n",
              "        buttonEl.style.display =\n",
              "          google.colab.kernel.accessAllowed ? 'block' : 'none';\n",
              "\n",
              "        async function convertToInteractive(key) {\n",
              "          const element = document.querySelector('#df-754a02bc-2b85-408f-b929-a68810f984b9');\n",
              "          const dataTable =\n",
              "            await google.colab.kernel.invokeFunction('convertToInteractive',\n",
              "                                                     [key], {});\n",
              "          if (!dataTable) return;\n",
              "\n",
              "          const docLinkHtml = 'Like what you see? Visit the ' +\n",
              "            '<a target=\"_blank\" href=https://colab.research.google.com/notebooks/data_table.ipynb>data table notebook</a>'\n",
              "            + ' to learn more about interactive tables.';\n",
              "          element.innerHTML = '';\n",
              "          dataTable['output_type'] = 'display_data';\n",
              "          await google.colab.output.renderOutput(dataTable, element);\n",
              "          const docLink = document.createElement('div');\n",
              "          docLink.innerHTML = docLinkHtml;\n",
              "          element.appendChild(docLink);\n",
              "        }\n",
              "      </script>\n",
              "    </div>\n",
              "  </div>\n",
              "  "
            ]
          },
          "metadata": {},
          "execution_count": 25
        }
      ]
    },
    {
      "cell_type": "markdown",
      "source": [
        "#### 4.2.3. Comparación entre borrador y constitución vigente de la República de Chile\n",
        "\n",
        "Nuevamente visualizamos ambas constituciones desde la perspectiva de los puntajes tfidf obtenidos. Podemos observar diferencias notorias entre el borrador constitucional, completamente nuevo y libre de reformas.\n",
        "\n",
        "Respecto a la constitución vigente, se aprecia una diferencia en las relevancias de las secuencias, principalmente las ya mencionadas \"constitucional\" y \"reform\", las cuales hacen sentido, teniendo en cuenta todas las reformas constitucionales que han habido desde su promulgación, el 1980."
      ],
      "metadata": {
        "id": "DgmMXFzlCO7G"
      }
    },
    {
      "cell_type": "code",
      "source": [
        "plot_chile_df = tfidf_vectors_df[[\"borrador_ch\",\"const_ch_actual\"]].sort_values(by=\"borrador_ch\", ascending=False).head(30)\n",
        "plot_chile_df.plot(kind=\"bar\", figsize=figsize, width=barwidth, color=colors);"
      ],
      "metadata": {
        "colab": {
          "base_uri": "https://localhost:8080/",
          "height": 363
        },
        "id": "qTYzjZq4wBYM",
        "outputId": "1aed1d16-fcbb-4a19-fae1-dd1cf4dc89bc"
      },
      "execution_count": null,
      "outputs": [
        {
          "output_type": "display_data",
          "data": {
            "text/plain": [
              "<Figure size 1440x360 with 1 Axes>"
            ],
            "image/png": "[encoded data removed]"
          },
          "metadata": {
            "needs_background": "light"
          }
        }
      ]
    },
    {
      "cell_type": "code",
      "source": [
        "plot_chile_df = tfidf_vectors_df[[\"borrador_ch\",\"const_ch_actual\"]].sort_values(by=\"const_ch_actual\", ascending=False).head(30)\n",
        "plot_chile_df.plot(kind=\"bar\", figsize=figsize, width=barwidth, color=colors);"
      ],
      "metadata": {
        "colab": {
          "base_uri": "https://localhost:8080/",
          "height": 380
        },
        "id": "eDsXa_xQFzhm",
        "outputId": "91cfc5c6-cad5-440c-914e-f5e41259ea7a"
      },
      "execution_count": null,
      "outputs": [
        {
          "output_type": "display_data",
          "data": {
            "text/plain": [
              "<Figure size 1440x360 with 1 Axes>"
            ],
            "image/png": "[encoded data removed]"
          },
          "metadata": {
            "needs_background": "light"
          }
        }
      ]
    },
    {
      "cell_type": "code",
      "source": [
        "plot_chile_df[[\"borrador_ch\", \"const_ch_actual\"]].sort_values(by=\"const_ch_actual\", ascending=False).head()"
      ],
      "metadata": {
        "colab": {
          "base_uri": "https://localhost:8080/",
          "height": 206
        },
        "id": "6cv-EkpOc82S",
        "outputId": "56f97a51-973f-47bd-aa7e-cc7afd6a9e0e"
      },
      "execution_count": null,
      "outputs": [
        {
          "output_type": "execute_result",
          "data": {
            "text/plain": [
              "                borrador_ch  const_ch_actual\n",
              "constitucional     0.047155         0.451117\n",
              "reform             0.017427         0.315309\n",
              "president          0.176320         0.272796\n",
              "parraf             0.000000         0.178655\n",
              "republ             0.057407         0.172416"
            ],
            "text/html": [
              "\n",
              "  <div id=\"df-0eb7b7a0-2fa4-4fa7-8af8-5bbbc0e37dcb\">\n",
              "    <div class=\"colab-df-container\">\n",
              "      <div>\n",
              "<style scoped>\n",
              "    .dataframe tbody tr th:only-of-type {\n",
              "        vertical-align: middle;\n",
              "    }\n",
              "\n",
              "    .dataframe tbody tr th {\n",
              "        vertical-align: top;\n",
              "    }\n",
              "\n",
              "    .dataframe thead th {\n",
              "        text-align: right;\n",
              "    }\n",
              "</style>\n",
              "<table border=\"1\" class=\"dataframe\">\n",
              "  <thead>\n",
              "    <tr style=\"text-align: right;\">\n",
              "      <th></th>\n",
              "      <th>borrador_ch</th>\n",
              "      <th>const_ch_actual</th>\n",
              "    </tr>\n",
              "  </thead>\n",
              "  <tbody>\n",
              "    <tr>\n",
              "      <th>constitucional</th>\n",
              "      <td>0.047155</td>\n",
              "      <td>0.451117</td>\n",
              "    </tr>\n",
              "    <tr>\n",
              "      <th>reform</th>\n",
              "      <td>0.017427</td>\n",
              "      <td>0.315309</td>\n",
              "    </tr>\n",
              "    <tr>\n",
              "      <th>president</th>\n",
              "      <td>0.176320</td>\n",
              "      <td>0.272796</td>\n",
              "    </tr>\n",
              "    <tr>\n",
              "      <th>parraf</th>\n",
              "      <td>0.000000</td>\n",
              "      <td>0.178655</td>\n",
              "    </tr>\n",
              "    <tr>\n",
              "      <th>republ</th>\n",
              "      <td>0.057407</td>\n",
              "      <td>0.172416</td>\n",
              "    </tr>\n",
              "  </tbody>\n",
              "</table>\n",
              "</div>\n",
              "      <button class=\"colab-df-convert\" onclick=\"convertToInteractive('df-0eb7b7a0-2fa4-4fa7-8af8-5bbbc0e37dcb')\"\n",
              "              title=\"Convert this dataframe to an interactive table.\"\n",
              "              style=\"display:none;\">\n",
              "        \n",
              "  <svg xmlns=\"http://www.w3.org/2000/svg\" height=\"24px\"viewBox=\"0 0 24 24\"\n",
              "       width=\"24px\">\n",
              "    <path d=\"M0 0h24v24H0V0z\" fill=\"none\"/>\n",
              "    <path d=\"M18.56 5.44l.94 2.06.94-2.06 2.06-.94-2.06-.94-.94-2.06-.94 2.06-2.06.94zm-11 1L8.5 8.5l.94-2.06 2.06-.94-2.06-.94L8.5 2.5l-.94 2.06-2.06.94zm10 10l.94 2.06.94-2.06 2.06-.94-2.06-.94-.94-2.06-.94 2.06-2.06.94z\"/><path d=\"M17.41 7.96l-1.37-1.37c-.4-.4-.92-.59-1.43-.59-.52 0-1.04.2-1.43.59L10.3 9.45l-7.72 7.72c-.78.78-.78 2.05 0 2.83L4 21.41c.39.39.9.59 1.41.59.51 0 1.02-.2 1.41-.59l7.78-7.78 2.81-2.81c.8-.78.8-2.07 0-2.86zM5.41 20L4 18.59l7.72-7.72 1.47 1.35L5.41 20z\"/>\n",
              "  </svg>\n",
              "      </button>\n",
              "      \n",
              "  <style>\n",
              "    .colab-df-container {\n",
              "      display:flex;\n",
              "      flex-wrap:wrap;\n",
              "      gap: 12px;\n",
              "    }\n",
              "\n",
              "    .colab-df-convert {\n",
              "      background-color: #E8F0FE;\n",
              "      border: none;\n",
              "      border-radius: 50%;\n",
              "      cursor: pointer;\n",
              "      display: none;\n",
              "      fill: #1967D2;\n",
              "      height: 32px;\n",
              "      padding: 0 0 0 0;\n",
              "      width: 32px;\n",
              "    }\n",
              "\n",
              "    .colab-df-convert:hover {\n",
              "      background-color: #E2EBFA;\n",
              "      box-shadow: 0px 1px 2px rgba(60, 64, 67, 0.3), 0px 1px 3px 1px rgba(60, 64, 67, 0.15);\n",
              "      fill: #174EA6;\n",
              "    }\n",
              "\n",
              "    [theme=dark] .colab-df-convert {\n",
              "      background-color: #3B4455;\n",
              "      fill: #D2E3FC;\n",
              "    }\n",
              "\n",
              "    [theme=dark] .colab-df-convert:hover {\n",
              "      background-color: #434B5C;\n",
              "      box-shadow: 0px 1px 3px 1px rgba(0, 0, 0, 0.15);\n",
              "      filter: drop-shadow(0px 1px 2px rgba(0, 0, 0, 0.3));\n",
              "      fill: #FFFFFF;\n",
              "    }\n",
              "  </style>\n",
              "\n",
              "      <script>\n",
              "        const buttonEl =\n",
              "          document.querySelector('#df-0eb7b7a0-2fa4-4fa7-8af8-5bbbc0e37dcb button.colab-df-convert');\n",
              "        buttonEl.style.display =\n",
              "          google.colab.kernel.accessAllowed ? 'block' : 'none';\n",
              "\n",
              "        async function convertToInteractive(key) {\n",
              "          const element = document.querySelector('#df-0eb7b7a0-2fa4-4fa7-8af8-5bbbc0e37dcb');\n",
              "          const dataTable =\n",
              "            await google.colab.kernel.invokeFunction('convertToInteractive',\n",
              "                                                     [key], {});\n",
              "          if (!dataTable) return;\n",
              "\n",
              "          const docLinkHtml = 'Like what you see? Visit the ' +\n",
              "            '<a target=\"_blank\" href=https://colab.research.google.com/notebooks/data_table.ipynb>data table notebook</a>'\n",
              "            + ' to learn more about interactive tables.';\n",
              "          element.innerHTML = '';\n",
              "          dataTable['output_type'] = 'display_data';\n",
              "          await google.colab.output.renderOutput(dataTable, element);\n",
              "          const docLink = document.createElement('div');\n",
              "          docLink.innerHTML = docLinkHtml;\n",
              "          element.appendChild(docLink);\n",
              "        }\n",
              "      </script>\n",
              "    </div>\n",
              "  </div>\n",
              "  "
            ]
          },
          "metadata": {},
          "execution_count": 74
        }
      ]
    },
    {
      "cell_type": "markdown",
      "source": [
        "### 4.3 Similitudes entre textos constitucionales\n",
        "\n",
        "Los resultados a continuación muestra la similitud del coseno entre los vectores generados. "
      ],
      "metadata": {
        "id": "Qov1C5mo-M1w"
      }
    },
    {
      "cell_type": "markdown",
      "source": [
        "#### 4.3.1.Similitud entre vectores de conteo, o `CountVectorizer()`"
      ],
      "metadata": {
        "id": "KS_cJPtPFTxs"
      }
    },
    {
      "cell_type": "markdown",
      "source": [
        "Los resultados a continuación muestra la similitud del coseno entre los vectores generados. El mayor grado de similitud se observa entre los textos de la República Bolivariana de Venezuela con 0.78, seguido por la similitud entre los textos del último mencionado y de la constitución de la República del Perú, con 0.76. La relación más disímil se dió entre los textos de la República de Chile (vigente) "
      ],
      "metadata": {
        "id": "M3qqF750L7xr"
      }
    },
    {
      "cell_type": "code",
      "source": [
        "fig, ax = plt.subplots(figsize=(10,7))         # Sample figsize in inches\n",
        "sns.heatmap(countvec_cos_df, annot=True, cmap=\"viridis\");\n",
        "plt.yticks(rotation=0);\n",
        "plt.title(\"Similitud entre vectores de conteo de palabras\");"
      ],
      "metadata": {
        "colab": {
          "base_uri": "https://localhost:8080/",
          "height": 445
        },
        "id": "0GpTLTj5lh-p",
        "outputId": "9ef83833-5eb4-43cc-c5fb-ca434a0250e6"
      },
      "execution_count": null,
      "outputs": [
        {
          "output_type": "display_data",
          "data": {
            "text/plain": [
              "<Figure size 720x504 with 2 Axes>"
            ],
            "image/png": "[encoded data removed]"
          },
          "metadata": {
            "needs_background": "light"
          }
        }
      ]
    },
    {
      "cell_type": "markdown",
      "source": [
        "Si además quisiéramos tener una métrica de cuán similar es cada texto frente a sus pares, podemos visualizarlo de la siguiente manera:"
      ],
      "metadata": {
        "id": "jNm8VIMZfqHP"
      }
    },
    {
      "cell_type": "code",
      "source": [
        "countvec_cos_df.sum().sort_values(ascending=False)"
      ],
      "metadata": {
        "colab": {
          "base_uri": "https://localhost:8080/"
        },
        "id": "iWnYKiIve735",
        "outputId": "acbcb1d4-dcd9-487e-fc2e-2002e8dd67cf"
      },
      "execution_count": null,
      "outputs": [
        {
          "output_type": "execute_result",
          "data": {
            "text/plain": [
              "borrador_ch        4.561312\n",
              "const_ve           4.509467\n",
              "const_pe           4.455909\n",
              "const_bo           4.172342\n",
              "const_ar           4.145426\n",
              "const_ch_actual    4.030755\n",
              "dtype: float64"
            ]
          },
          "metadata": {},
          "execution_count": 81
        }
      ]
    },
    {
      "cell_type": "markdown",
      "source": [
        "Se muestra que el texto borrador de la República de Chile presenta un mayor grado de similitud entre sus pares, seguido por el texto de la República Bolivariana de Venezuela. Por el contrario, el texto más diferente entre sus pares es el texto constitucional vigente de la República de Chile."
      ],
      "metadata": {
        "id": "FCYJU6bhf23g"
      }
    },
    {
      "cell_type": "markdown",
      "source": [
        "#### 4.3.2. Similitud de vectores Tfidf\n",
        "\n",
        "\n",
        "</br>\n",
        "\n",
        "En la figura que se muestra a continuación, \"Similitud entre vectores tf-idf\" se observa que los textos constitucionales más similares son el texto borrador de Chile y la constitución de la República del Perú, con 0.71. A éste le sigue la constitución de la Repùblica Bolivariana de Venezuela con 0.69. Por otro lado, los textos mas disímiles son la constitución de la República de Bolivia y la constitución vigente de la Repúbilca de Chile. Cabe mencionar, que respecto a la constitución vigente, el texto más similar es el texto borrador de Chile, con un 0.62. Se observa que las constituciones que más se distancian de sus pares son la constitución de la República de Bolivia y la constitución vigente de la República de Chile."
      ],
      "metadata": {
        "id": "lT4YWY9S3cjz"
      }
    },
    {
      "cell_type": "code",
      "source": [
        "fig, ax = plt.subplots(figsize=(10,7));\n",
        "sns.heatmap(tfidf_cos_df, annot=True, cmap=\"viridis\");\n",
        "plt.yticks(rotation=0);\n",
        "plt.title(\"Similitud entre vectores tf-idf\");"
      ],
      "metadata": {
        "colab": {
          "base_uri": "https://localhost:8080/",
          "height": 445
        },
        "id": "IaAJ3THBlvoE",
        "outputId": "7986f94c-1756-477f-8d26-7c58d798a601"
      },
      "execution_count": null,
      "outputs": [
        {
          "output_type": "display_data",
          "data": {
            "text/plain": [
              "<Figure size 720x504 with 2 Axes>"
            ],
            "image/png": "[encoded data removed]"
          },
          "metadata": {
            "needs_background": "light"
          }
        }
      ]
    },
    {
      "cell_type": "markdown",
      "source": [
        "Naturalmente, observaremos más detalles acerca de los resultados de este vectorizador, para responder a la pregunta ¿Cómo se distribuye la frecuencia-relevancia de las secuencias entre documentos?"
      ],
      "metadata": {
        "id": "IB18bMWF5y79"
      }
    },
    {
      "cell_type": "code",
      "source": [
        "tfidf_cos_df.sum().sort_values(ascending=False)"
      ],
      "metadata": {
        "id": "s1oeTdCuzQfz",
        "colab": {
          "base_uri": "https://localhost:8080/"
        },
        "outputId": "5c272699-ccd0-4304-bf39-915f34384a9d"
      },
      "execution_count": null,
      "outputs": [
        {
          "output_type": "execute_result",
          "data": {
            "text/plain": [
              "borrador_ch        4.302017\n",
              "const_pe           4.188538\n",
              "const_ve           4.016412\n",
              "const_ar           3.840108\n",
              "const_ch_actual    3.808256\n",
              "const_bo           3.664453\n",
              "dtype: float64"
            ]
          },
          "metadata": {},
          "execution_count": 85
        }
      ]
    },
    {
      "cell_type": "markdown",
      "source": [
        "De la misma manera que anteriormente, podemos observar el grado de similitud que tienen los textos constitucionales entre sus pares, ahora considerando además la relevancia que tienen las secuencias cada documento. El texto borrador de Chile, nuevamente presenta un mayor puntaje en su grado de similitud entre vectores tfidf. "
      ],
      "metadata": {
        "id": "oXKACVr7ffU8"
      }
    },
    {
      "cell_type": "markdown",
      "source": [
        "## 5. Conclusión\n",
        "\n",
        "Se demostró en este documento, cómo se pueden utilizar técnicas de análisis de textos para, valga la redundancia, analizar textos constitucionales. \n",
        "\n",
        "En nuestro análisis, encontramos que respecto al conteo o frecuencia de palabras:\n",
        "\n",
        "* La mayor similitud fue entre el texto borrador de la República de Chile, y la constitucion de la República Bolivariana de Venezuela, con 0.78. \n",
        "\n",
        "* La mayor diferencia se encontró entre los textos de Chile (vigente) y Bolivia, con 0.51. \n",
        "\n",
        "* No obstante trabajamos en un dominio donde podemos realizar comparaciones, se observo bastante heterogeneidad entre las palabras utilizadas en cada texto\n",
        "\n",
        "* Teniendo en cuenta el preprocesamiento, el texto borrador constitucional de la República de Chile resultó ser el más extenso, con 16.733 palabras, seguido por el texto de la República de Bolivia con 14.189 palabras. El texto más corto, resultó ser la constitución vigente de la República de Chile, precedido por el texto de la República bolivariana de Venezuela. \n",
        "\n",
        "* El borrador constitucional de Chile resulto ser el más símil considerando los demás textos \n",
        "\n",
        "Por el lado de los vectores tfidf, se encontró que:\n",
        "\n",
        "* El mayor grado de similitud se encontró entre la constitución vigente de la República de Chile y el texto de la República del Peru, con 0.71. \n",
        "\n",
        "* La mayor diferencia se observó entre la constitución vigente de la República de Chile y el texto de la República de Bolivia. \n",
        "\n",
        "* No obstante se observaron diferencias entre los vectores de conteo y los vectores tfidf, se observaron cambios del ranking de secuencias, agregando una perspectiva más rica en el análisis. \n",
        "\n",
        "* En consecuencia del punto anterior, el texto más simil entre sus pares resultó ser el texto borrador de la República de Chile, seguido por el texto de la República del Perú. En el lado contrario, el texto más diferente a todos resultó ser el texto de la República de Bolivia, precedido por el texto vigente de la República de Chile. \n",
        "\n",
        "\n"
      ],
      "metadata": {
        "id": "YPnXBX_Bgjdy"
      }
    }
  ]
}